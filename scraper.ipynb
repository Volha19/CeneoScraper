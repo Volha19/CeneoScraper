{
 "cells": [
  {
   "cell_type": "markdown",
   "metadata": {},
   "source": [
    "### Imports"
   ]
  },
  {
   "cell_type": "code",
   "execution_count": null,
   "metadata": {},
   "outputs": [],
   "source": [
    "import json\n",
    "import os\n",
    "import requests\n",
    "from bs4 import BeautifulSoup"
   ]
  },
  {
   "cell_type": "markdown",
   "metadata": {},
   "source": [
    "### Utils"
   ]
  },
  {
   "cell_type": "code",
   "execution_count": null,
   "metadata": {},
   "outputs": [],
   "source": [
    "def extract(ancestor, selector, attribute = None, multiple = False):\n",
    "    if multiple:\n",
    "        if attribute:\n",
    "            return [tag[attribute] for tag in ancestor.select(selector)]\n",
    "        return [tag.get_text() for tag in ancestor.select(selector)]\n",
    "    if attribute:\n",
    "        try:\n",
    "            return ancestor.select_one(selector)[attribute]\n",
    "        except TypeError:\n",
    "            return None\n",
    "    try:\n",
    "        return ancestor.select_one(selector).get_text()\n",
    "    except AttributeError:\n",
    "        return None"
   ]
  },
  {
   "cell_type": "markdown",
   "metadata": {},
   "source": [
    "### Extraction of opinions"
   ]
  },
  {
   "cell_type": "code",
   "execution_count": null,
   "metadata": {},
   "outputs": [],
   "source": [
    "with open(\"cookie.json\",\"r\") as jsonFile:\n",
    "    headers = json.load(jsonFile)\n",
    "    "
   ]
  },
  {
   "cell_type": "code",
   "execution_count": null,
   "metadata": {},
   "outputs": [],
   "source": [
    "productID = \"84514582\"\n",
    "next_page = f\"https://www.ceneo.pl/{productID}#tab=reviews_scroll\"\n",
    "allOpinions = []\n",
    "while next_page:\n",
    "    response = requests.get(next_page)\n",
    "    if response.status_code == 200:\n",
    "        page_dom = BeautifulSoup(response.text, 'html.parser')\n",
    "        opinions = page_dom.select(\"div.js_product-review:not(.user-post--highlight)\")\n",
    "        for opinion in opinions:\n",
    "            singleOpinion = {}\n",
    "            singleOpinion[\"opinion_id\"] = opinion[\"data-entry-id\"]\n",
    "            singleOpinion[\"author\"] = extract(opinion, \"span.user-post__author-name\")\n",
    "            singleOpinion[\"recommendation\"] = extract(opinion, \"span.user-post__author-recomendation > em\")\n",
    "            singleOpinion[\"stars\"] = extract(opinion,\"span.user-post__score-count\")\n",
    "            singleOpinion[\"content\"] = extract(opinion,\"div.user-post__text\")\n",
    "            singleOpinion[\"pros\"] = extract(opinion,\"div.review-feature__item--positive\",None,True)\n",
    "            singleOpinion[\"cons\"] = extract(opinion,\"div.review-feature__item--negative\",None,True)\n",
    "            singleOpinion[\"vote_yes\"] = extract(opinion, \"button.vote-yes\", \"data-total-vote\")\n",
    "            singleOpinion[\"vote_no\"] = extract(opinion, \"button.vote-no\", \"data-total-vote\")\n",
    "            singleOpinion[\"published\"] = extract(opinion,\"span.user-post__published > time:nth-child(1)\",\"datetime\")\n",
    "            singleOpinion[\"purchased\"] = extract(opinion,\"span.user-post__published > time:nth-child(2)\", \"datetime\")\n",
    "            allOpinions.append(singleOpinion)\n",
    "        try:\n",
    "            next_page = \"https://www.ceneo.pl\" + page_dom.select_one(\"a.pagination__next\")[\"href\"]\n",
    "        except TypeError:\n",
    "            next_page = None\n",
    "    else:\n",
    "        print(\"Smth went wrong\")\n",
    "print(allOpinions)"
   ]
  },
  {
   "cell_type": "code",
   "execution_count": null,
   "metadata": {},
   "outputs": [],
   "source": [
    "if not os.path.exists(\"./opinions\"):\n",
    "    os.mkdir(\"./opinions\")\n",
    "    \n",
    "with open(f\"./opinions/{productID}.json\",\"w\",encoding=\"UTF-8\") as jsonFile:\n",
    "    json.dump(allOpinions, jsonFile, ensure_ascii = False, indent = 4)"
   ]
  }
 ],
 "metadata": {
  "kernelspec": {
   "display_name": ".venv",
   "language": "python",
   "name": "python3"
  },
  "language_info": {
   "codemirror_mode": {
    "name": "ipython",
    "version": 3
   },
   "file_extension": ".py",
   "mimetype": "text/x-python",
   "name": "python",
   "nbconvert_exporter": "python",
   "pygments_lexer": "ipython3",
   "version": "3.13.2"
  }
 },
 "nbformat": 4,
 "nbformat_minor": 2
}
