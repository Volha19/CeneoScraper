{
 "cells": [
  {
   "cell_type": "markdown",
   "metadata": {},
   "source": [
    "### Imports"
   ]
  },
  {
   "cell_type": "code",
   "execution_count": 16,
   "metadata": {},
   "outputs": [],
   "source": [
    "import json\n",
    "import os\n",
    "import requests\n",
    "from bs4 import BeautifulSoup\n",
    "from deep_translator import GoogleTranslator"
   ]
  },
  {
   "cell_type": "markdown",
   "metadata": {},
   "source": [
    "### Utils"
   ]
  },
  {
   "cell_type": "code",
   "execution_count": 17,
   "metadata": {},
   "outputs": [],
   "source": [
    "def extract(ancestor, selector = None, attribute = None, multiple = False):\n",
    "    if selector:\n",
    "        if multiple:\n",
    "            if attribute:\n",
    "                return [tag[attribute].strip() for tag in ancestor.select(selector)]\n",
    "            return [tag.get_text().strip() for tag in ancestor.select(selector)]\n",
    "        if attribute:\n",
    "            try:\n",
    "                return ancestor.select_one(selector)[attribute].strip()\n",
    "            except TypeError:\n",
    "                return None\n",
    "        try:\n",
    "            return ancestor.select_one(selector).get_text().strip()\n",
    "        except AttributeError:\n",
    "            return None\n",
    "    try:\n",
    "        return ancestor[attribute].strip()\n",
    "    except (TypeError,KeyError):\n",
    "        return None"
   ]
  },
  {
   "cell_type": "code",
   "execution_count": 18,
   "metadata": {},
   "outputs": [],
   "source": [
    "def translate(text, source=\"pl\",target = \"en\"):\n",
    "    return GoogleTranslator(source,target).translate(text=text)"
   ]
  },
  {
   "cell_type": "code",
   "execution_count": 19,
   "metadata": {},
   "outputs": [],
   "source": [
    "selectors = {\n",
    "    \"opinion_id\" : (None, \"data-entry-id\"),\n",
    "    \"author\"  : (\"span.user-post__author-name\",),\n",
    "    \"recommendation\" : ( \"span.user-post__author-recomendation > em\",),\n",
    "    \"stars\" : (\"span.user-post__score-count\",),\n",
    "    \"content_pl\" : (\"div.user-post__text\",),\n",
    "    \"pros_pl\" : (\"div.review-feature__item--positive\",None,True),\n",
    "    \"cons_pl\" : (\"div.review-feature__item--negative\",None,True),\n",
    "    \"vote_yes\" : ( \"button.vote-yes\", \"data-total-vote\"),\n",
    "    \"vote_no\" : ( \"button.vote-no\", \"data-total-vote\"),\n",
    "    \"published\" : (\"span.user-post__published > time:nth-child(1)\",\"datetime\"),\n",
    "    \"purchased\" : (\"span.user-post__published > time:nth-child(2)\", \"datetime\"),\n",
    "}"
   ]
  },
  {
   "cell_type": "markdown",
   "metadata": {},
   "source": [
    "### Extraction of opinions"
   ]
  },
  {
   "cell_type": "code",
   "execution_count": 20,
   "metadata": {},
   "outputs": [],
   "source": [
    "with open(\"./cookie.json\",\"r\") as jsonFile:\n",
    "    headers = json.load(jsonFile)"
   ]
  },
  {
   "cell_type": "code",
   "execution_count": null,
   "metadata": {},
   "outputs": [],
   "source": [
    "productID = input(\"Enter product id\")\n",
    "next_page = f\"https://www.ceneo.pl/{productID}#tab=reviews_scroll\"\n",
    "allOpinions = []\n",
    "while next_page:\n",
    "    response = requests.get(next_page)\n",
    "    if response.status_code == 200:\n",
    "        page_dom = BeautifulSoup(response.text, 'html.parser')\n",
    "        opinions = page_dom.select(\"div.js_product-review:not(.user-post--highlight)\")\n",
    "        for opinion in opinions:\n",
    "            singleOpinion = {\n",
    "                key: extract(opinion, *value)\n",
    "                for key,value in selectors.items()\n",
    "            }\n",
    "            singleOpinion[\"content_en\"] = translate(singleOpinion['content_pl'])\n",
    "            singleOpinion[\"pros_en\"] = [translate(pros) for pros in singleOpinion['pros_pl']]\n",
    "            singleOpinion[\"cons_en\"] = [translate(cons) for cons in singleOpinion['cons_pl']]\n",
    "            singleOpinion['recommendation'] = True if singleOpinion['recommendation'] == \"Polecam\" else False if singleOpinion['recommendation'] == \"Nie polecam\" else None\n",
    "            singleOpinion['stars'] = float(singleOpinion['stars'].split(\"/\")[0].replace(\",\",\".\"))\n",
    "            singleOpinion['vote_yes'] = int(singleOpinion['vote_yes']) \n",
    "            singleOpinion['vote_no'] = int(singleOpinion['vote_no']) \n",
    "            allOpinions.append(singleOpinion)\n",
    "        try:\n",
    "            next_page = \"https://www.ceneo.pl\" + page_dom.select_one(\"a.pagination__next\")[\"href\"]\n",
    "        except TypeError:\n",
    "            next_page = None"
   ]
  },
  {
   "cell_type": "markdown",
   "metadata": {},
   "source": [
    "### Export opinions to json file"
   ]
  },
  {
   "cell_type": "code",
   "execution_count": 22,
   "metadata": {},
   "outputs": [],
   "source": [
    "if not os.path.exists(\"./opinions\"):\n",
    "    os.mkdir(\"./opinions\")\n",
    "    \n",
    "with open(f\"./opinions/{productID}.json\",\"w\",encoding=\"UTF-8\") as jsonFile:\n",
    "    json.dump(allOpinions, jsonFile, ensure_ascii = False, indent = 4)"
   ]
  }
 ],
 "metadata": {
  "kernelspec": {
   "display_name": ".venv",
   "language": "python",
   "name": "python3"
  },
  "language_info": {
   "codemirror_mode": {
    "name": "ipython",
    "version": 3
   },
   "file_extension": ".py",
   "mimetype": "text/x-python",
   "name": "python",
   "nbconvert_exporter": "python",
   "pygments_lexer": "ipython3",
   "version": "3.13.2"
  }
 },
 "nbformat": 4,
 "nbformat_minor": 2
}
