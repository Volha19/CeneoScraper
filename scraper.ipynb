{
 "cells": [
  {
   "cell_type": "code",
   "execution_count": null,
   "metadata": {},
   "outputs": [],
   "source": [
    "import json\n",
    "import requests\n",
    "from bs4 import BeautifulSoup"
   ]
  },
  {
   "cell_type": "markdown",
   "metadata": {},
   "source": [
    "### Imports"
   ]
  },
  {
   "cell_type": "markdown",
   "metadata": {},
   "source": [
    "2. Sending HTTP request to acces first page with opinions"
   ]
  },
  {
   "cell_type": "code",
   "execution_count": null,
   "metadata": {},
   "outputs": [],
   "source": [
    "url = \"https://www.ceneo.pl/84514582#tab=reviews_scroll\"\n",
    "response = requests.get(url)"
   ]
  },
  {
   "cell_type": "markdown",
   "metadata": {},
   "source": []
  },
  {
   "cell_type": "markdown",
   "metadata": {},
   "source": [
    "3. Checking the code of http response"
   ]
  },
  {
   "cell_type": "code",
   "execution_count": null,
   "metadata": {},
   "outputs": [],
   "source": [
    "response.status_code"
   ]
  },
  {
   "cell_type": "markdown",
   "metadata": {},
   "source": [
    "4. Parse the html code of first page wth opinions"
   ]
  },
  {
   "cell_type": "code",
   "execution_count": null,
   "metadata": {},
   "outputs": [],
   "source": [
    "page_dom = BeautifulSoup(response.text, 'html.parser')"
   ]
  },
  {
   "cell_type": "markdown",
   "metadata": {},
   "source": [
    "5. Extract required data from the page"
   ]
  },
  {
   "cell_type": "code",
   "execution_count": null,
   "metadata": {},
   "outputs": [],
   "source": [
    "opinions = page_dom.select(\"div.js_product-review:not(.user-post--highlight)\")\n",
    "for opinion in opinions:\n",
    "    opinion_id = opinion[\"data-entry-id\"]\n",
    "    author = opinion.select_one(\"span.user-post__author-name\").get_text()\n",
    "    try:\n",
    "        recommendation = opinion.select_one(\"span.user-post__author-recomendation > em\").get_text()\n",
    "    except AttributeError:\n",
    "        recommendation = None\n",
    "    stars = opinion.select_one(\"span.user-post__score-count\").get_text()\n",
    "    content = opinion.select_one(\"div.user-post__text\").get_text()\n",
    "    pros = [p.get_text() for p in opinion.select(\"div.review-feature__item--positive\")]\n",
    "    cons = [s.get_text() for s in opinion.select(\"div.review-feature__item--negative\")]\n",
    "    vote_yes = opinion.select_one(\"button.vote-yes\")[\"data-total-vote\"]\n",
    "    vote_no = opinion.select_one(\"button.vote-no\")[\"data-total-vote\"]\n",
    "    published = opinion.select_one(\"span.user-post__published > time:nth-child(1)\")[\"datetime\"]\n",
    "    try:\n",
    "        purchased = opinion.select_one(\"span.user-post__published > time:nth-child(2)\")[\"datetime\"]\n",
    "    except TypeError:\n",
    "        purchased = None\n",
    "    print(opinion_id, author, recommendation, stars, content, pros, cons, vote_yes, vote_no, published, purchased, sep = \"\\n\")"
   ]
  },
  {
   "cell_type": "markdown",
   "metadata": {},
   "source": [
    "6. If there are more pages, move to the next page and repeat steps 2-6 for each page"
   ]
  },
  {
   "cell_type": "code",
   "execution_count": null,
   "metadata": {},
   "outputs": [],
   "source": [
    "try:\n",
    "    next_page = \"https://www.ceneo.pl\" + page_dom.select_one(\"a.pagination__next\")[\"href\"]\n",
    "except TypeError:\n",
    "    next_page = None"
   ]
  },
  {
   "cell_type": "code",
   "execution_count": null,
   "metadata": {},
   "outputs": [],
   "source": [
    "next_page = \"https://www.ceneo.pl/84514582#tab=reviews_scroll\"\n",
    "allOpinions = []\n",
    "while next_page:\n",
    "    response = requests.get(next_page)\n",
    "    if response.status_code == 200:\n",
    "        page_dom = BeautifulSoup(response.text, 'html.parser')\n",
    "        opinions = page_dom.select(\"div.js_product-review:not(.user-post--highlight)\")\n",
    "        for opinion in opinions:\n",
    "            singleOpinion = {}\n",
    "            singleOpinion[\"opinion_id\"] = opinion[\"data-entry-id\"]\n",
    "            singleOpinion[\"author\"] = opinion.select_one(\"span.user-post__author-name\").get_text()\n",
    "            try:\n",
    "                singleOpinion[\"recommendation\"] = opinion.select_one(\"span.user-post__author-recomendation > em\").get_text()\n",
    "            except AttributeError:\n",
    "                singleOpinion[\"recommendation\"] = None\n",
    "            singleOpinion[\"stars\"] = opinion.select_one(\"span.user-post__score-count\").get_text()\n",
    "            singleOpinion[\"content\"] = opinion.select_one(\"div.user-post__text\").get_text()\n",
    "            singleOpinion[\"pros\"] = [p.get_text() for p in opinion.select(\"div.review-feature__item--positive\")]\n",
    "            singleOpinion[\"cons\"] = [s.get_text() for s in opinion.select(\"div.review-feature__item--negative\")]\n",
    "            singleOpinion[\"vote_yes\"] = opinion.select_one(\"button.vote-yes\")[\"data-total-vote\"]\n",
    "            singleOpinion[\"vote_no\"] = opinion.select_one(\"button.vote-no\")[\"data-total-vote\"]\n",
    "            singleOpinion[\"published\"] = opinion.select_one(\"span.user-post__published > time:nth-child(1)\")[\"datetime\"]\n",
    "            try:\n",
    "                singleOpinion[\"purchased\"] = opinion.select_one(\"span.user-post__published > time:nth-child(2)\")[\"datetime\"]\n",
    "            except TypeError:\n",
    "                singleOpinion[\"purchased\"] = None\n",
    "            allOpinions.append(singleOpinion)\n",
    "        try:\n",
    "            next_page = \"https://www.ceneo.pl\" + page_dom.select_one(\"a.pagination__next\")[\"href\"]\n",
    "        except TypeError:\n",
    "            next_page = None\n",
    "    else:\n",
    "        print(\"Smth went wrong\")\n",
    "print(allOpinions)"
   ]
  }
 ],
 "metadata": {
  "kernelspec": {
   "display_name": ".venv",
   "language": "python",
   "name": "python3"
  },
  "language_info": {
   "codemirror_mode": {
    "name": "ipython",
    "version": 3
   },
   "file_extension": ".py",
   "mimetype": "text/x-python",
   "name": "python",
   "nbconvert_exporter": "python",
   "pygments_lexer": "ipython3",
   "version": "3.13.2"
  }
 },
 "nbformat": 4,
 "nbformat_minor": 2
}
