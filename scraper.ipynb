{
 "cells": [
  {
   "cell_type": "code",
   "execution_count": null,
   "metadata": {},
   "outputs": [],
   "source": [
    "import json\n",
    "import requests\n",
    "from bs4 import BeautifulSoup"
   ]
  },
  {
   "cell_type": "markdown",
   "metadata": {},
   "source": [
    "### Imports"
   ]
  },
  {
   "cell_type": "markdown",
   "metadata": {},
   "source": [
    "2. Sending HTTP request to acces first page with opinions"
   ]
  },
  {
   "cell_type": "code",
   "execution_count": null,
   "metadata": {},
   "outputs": [],
   "source": [
    "url = \"https://www.ceneo.pl/84514582#tab=reviews_scroll\"\n",
    "response = requests.get(url)"
   ]
  },
  {
   "cell_type": "markdown",
   "metadata": {},
   "source": []
  },
  {
   "cell_type": "markdown",
   "metadata": {},
   "source": [
    "3. Checking the code of http response"
   ]
  },
  {
   "cell_type": "code",
   "execution_count": null,
   "metadata": {},
   "outputs": [],
   "source": [
    "response.status_code"
   ]
  },
  {
   "cell_type": "markdown",
   "metadata": {},
   "source": [
    "4. Parse the html code of first page wth opinions"
   ]
  },
  {
   "cell_type": "code",
   "execution_count": null,
   "metadata": {},
   "outputs": [],
   "source": [
    "page_dom = BeautifulSoup(response.text, 'html.parser')"
   ]
  },
  {
   "cell_type": "markdown",
   "metadata": {},
   "source": [
    "5. Extract required data from the page"
   ]
  },
  {
   "cell_type": "code",
   "execution_count": null,
   "metadata": {},
   "outputs": [],
   "source": [
    "opinions = page_dom.select(\"div.js_product-review:not(.user-post--highlight)\")\n",
    "for opinion in opinions:\n",
    "    opinion_id = opinion[\"data-entry-id\"]\n",
    "    author = opinion.select_one(\"span.user-post__author-name\").get_text()\n",
    "    try:\n",
    "        recommendation = opinion.select_one(\"span.user-post__author-recomendation > em\").get_text()\n",
    "    except AttributeError:\n",
    "        recommendation = None\n",
    "    stars = opinion.select_one(\"span.user-post__score-count\").get_text()\n",
    "    content = opinion.select_one(\"div.user-post__text\").get_text()\n",
    "    pros = [p.get_text() for p in opinion.select(\"div.review-feature__item--positive\")]\n",
    "    cons = [s.get_text() for s in opinion.select(\"div.review-feature__item--negative\")]\n",
    "    vote_yes = opinion.select_one(\"button.vote-yes\")[\"data-total-vote\"]\n",
    "    vote_no = opinion.select_one(\"button.vote-no\")[\"data-total-vote\"]\n",
    "    published = opinion.select_one(\"span.user-post__published > time:nth-child(1)\")[\"datetime\"]\n",
    "    try:\n",
    "        purchased = opinion.select_one(\"span.user-post__published > time:nth-child(2)\")[\"datetime\"]\n",
    "    except TypeError:\n",
    "        purchased = None\n",
    "    print(opinion_id, author, recommendation, stars, content, pros, cons, vote_yes, vote_no, published, purchased, sep = \"\\n\")"
   ]
  },
  {
   "cell_type": "markdown",
   "metadata": {},
   "source": [
    "6. If there are more pages, move to the next page and repeat steps 2-6 for each page"
   ]
  },
  {
   "cell_type": "code",
   "execution_count": null,
   "metadata": {},
   "outputs": [],
   "source": [
    "try:\n",
    "    next_page = \"https://www.ceneo.pl\" + page_dom.select_one(\"a.pagination__next\")[\"href\"]\n",
    "except TypeError:\n",
    "    next_page = None"
   ]
  },
  {
   "cell_type": "code",
   "execution_count": 111,
   "metadata": {},
   "outputs": [
    {
     "name": "stdout",
     "output_type": "stream",
     "text": [
      "{'opinion_id': '12535429', 'author': '\\ng...6\\n', 'recommendation': None, 'stars': '3/5', 'content': 'Instalacja łatwa. Oprogramowanie HP Smart bezproblemowe. Zwrot 100zl Cashback z Promocji po kilku dniach od zakupu. Skanuje. Drukuje. \\nPrzez pierwsze 2-3 dni wszystko w porządku, wydruki czarne i kolorowe bardzo dobre. Po 3 dniu, zupełnie nagle, drukarka zaczyna drukować białe poziome kreski na wydrukach kolorowych. W czarnym bardzo dobrze. Wydruki w najlepszej jakości są bardzo dobre. Wydruki w jakości normalnej i roboczej są moim zdaniem wadliwe. Kupiłem 2 drukarki. Jedną udało mi się zwrócić w ramach 14 zwrotu. Druga niestety została. \\nProducent HP raz uznał gwarancję. HP przysłałi nową głowicę kolorową, a jak problem nie został rozwiązany, całą nową drukarkę. Trzecia drukarka tak samo, drukuje białe kreski na wydrukach kolorowych. \\nZgłoszone ponownie do HP, tym razem w ocenie wsparcia HP, drukarki atramentowe tak drukują... Pozostawię to bez komentarza. Chciałem zgłosić w ramach rękojmi, niezgodność produktu z umową (reklamują outstanding printing quality), ale niestety kupiłem na firmę i rękojmia jest wyłączona. Nie wiem czy wadliwa seria drukarek, głowic, oprogramowania czy może ja coś źle robię przy 1-szym uruchamianiu, ale HP nie chce poznać i rozwiązać problemu. Dobre jest to, że po kilku dniach, pierwsze strony wydruków wychodzą ok, a kreski pojawiają się dopiero na 3-4 stronie. Może z czasem się to poprawi samo, jeśli problemem jest zapowietrzenie głowicy lub aktualizacja oprogramowania sprzętowego... \\nCo ciekawe, HP nie wymaga odciągania tuszy strzykawką do wysyłki drukarki a sklep tak. Drugi raz bym nie kupił, chyba że sprawdzoną przetestowaną.', 'pros': ['czyste napełnianie atramentem', 'niski koszt wydruku', 'szybkość wydruku', 'wydajna', 'wydajność'], 'cons': ['jakość wydruków'], 'vote_yes': '19', 'vote_no': '3', 'published': '2020-05-28 08:02:51', 'purchased': '2020-05-04 22:29:44'}\n",
      "{'opinion_id': '13551598', 'author': '\\nb...a\\n', 'recommendation': 'Polecam', 'stars': '4/5', 'content': 'Wykonana dobrze, trochę za duża, z ledwością mieści mi się na biurku, ale może być. Drukuje ciszej w porównaniu z poprzednią drukarką HP 209a. Napełniłam tusze do pełna i po ok.10 kartkach ubyło mi 4 mm czarnego tuszu w pojemniku. Mam nadzieję, że będzie wydajna. Na razie nie mogę tego stwierdzić. Fajnie, że można zobaczyć, ile ubyło tuszu. Dolewanie jest banalnie proste, tusz nie wylewa się. Martwi mnie tylko, że przenosić trzeba ją w pozycji poziomej, bo inaczej tusz może się wylewać. Ogólnie jestem zadowolona z zakupu.', 'pros': ['czyste napełnianie atramentem', 'głośność pracy'], 'cons': [], 'vote_yes': '2', 'vote_no': '3', 'published': '2020-12-10 19:41:04', 'purchased': '2020-12-04 21:02:01'}\n",
      "{'opinion_id': '18299406', 'author': '\\nU...o\\n', 'recommendation': 'Polecam', 'stars': '4,5/5', 'content': 'Po 1 dniu uzytkowania mozna stwierdzic 1-polaczenie z kompem poprzez wi fi-bez problemu\\n2-tankowanie zbiorniczkow-bez problemu\\n3-montaz ,,glowic,,-beznadziejny dostep,jakies pomaranczowe badziewie ciezko wydostac z wnetrza drukarki(po cholere takie zabezpieczenie)ale udalo sie\\n4-polaczenie z telefonem -bez problemu\\n5-jak z kompa tak i z telefonu(za posrednictwem aplikacji  HP SMART) bez problemow\\n6-druk na zwyklym papierze spoko (czern i kolor )\\n7-po testach na papierze foto -zobaczymy\\n8-ogolnie -za taka kase polecam', 'pros': ['czyste napełnianie atramentem', 'jakość wydruków', 'jakość wydruku', 'niski koszt wydruku', 'szybkość wydruku', 'wydajna', 'wydajność'], 'cons': ['głośność pracy'], 'vote_yes': '0', 'vote_no': '0', 'published': '2024-01-12 21:03:08', 'purchased': '2024-01-09 18:20:01'}\n",
      "{'opinion_id': '15226709', 'author': '\\nk...l\\n', 'recommendation': 'Polecam', 'stars': '4/5', 'content': 'Wszystko z opisu się zgadza. Baaardzo ekonomiczna, jakość druku wysoka, jak na czołg drukarkowy niewielka... Przypomniałem sobie tyko dlaczego nie lubię HP-ków. Mało intuicyjna aplikacja, nie tak denerwująca jak kiedyś ale konfiguracja trwała zbyt długo. A poza tym zupełnie spoko.', 'pros': [], 'cons': [], 'vote_yes': '3', 'vote_no': '0', 'published': '2021-11-18 17:47:41', 'purchased': '2021-11-01 18:36:33'}\n",
      "{'opinion_id': '13501735', 'author': '\\ng...k\\n', 'recommendation': None, 'stars': '3,5/5', 'content': 'produkt na wstępie nie ruszył bo był problem z dyszami , po wymianie chodzi  OK , trochę długo i hałaśliwie  trwa proces włączania ', 'pros': ['jakość wydruków', 'jakość wydruku', 'szybkość wydruku'], 'cons': ['głośność pracy'], 'vote_yes': '4', 'vote_no': '0', 'published': '2020-12-04 00:11:48', 'purchased': '2020-11-17 18:04:01'}\n",
      "{'opinion_id': '14283834', 'author': '\\nUżytkownik Ceneo\\n', 'recommendation': 'Polecam', 'stars': '4/5', 'content': 'Bardzo wydajna i oszczędna drukarka. Solidna, dobra jakość wykonania.\\nDługo się czeka przy włączeniu zanim będzie gotowa do pracy. Dość głośna.', 'pros': ['jakość wydruków', 'jakość wydruku'], 'cons': ['głośność pracy', 'szybkość wydruku'], 'vote_yes': '1', 'vote_no': '1', 'published': '2021-04-14 00:32:31', 'purchased': '2021-03-23 08:31:21'}\n",
      "{'opinion_id': '11176459', 'author': '\\nMadziana\\n', 'recommendation': 'Polecam', 'stars': '5/5', 'content': 'Drukarka od samego początku jest bardzo przyjazna, pierwsze uruchomienie pomimo że na początku wygląda na dość skomplikowane po obejrzeniu szczegółowej instrukcji jest banalnie proste :) Konfiguracje i podłączenie do sieci wi fi trwało bardzo krótko i była wyjątkowo  łatwe :) Drukarka została skonfigurowana została na komputerze oraz smartfonie z androidem, zarówno na komputerze jak i na smarthonie aplikacja do sterowania drukarki jest bardzo przejrzysta i intuicyjna. Na pochwałę zasługuje  aplikacja dla androida która jest konfigurowalna  i można przystosować ją dla swoich potrzeb, jeśli chodzi o wydruk to można przyznać że, drukarka drukuje cicho, bardzo szybko a jakość wydruku zarówno w kolorze czarnym jak i w kolorze jest rewelacyjna :) kolory żywe, wyraziste, obrazki nierozmazane. Mogę oficjalnie przyznać że spełniła moje oczekiwania w wydruku jak i w wyglądzie :) ', 'pros': ['jakość wydruków', 'szybkość wydruku', 'wydajność'], 'cons': [], 'vote_yes': '3', 'vote_no': '5', 'published': '2019-10-19 23:50:49', 'purchased': None}\n",
      "{'opinion_id': '18283057', 'author': '\\nu...g\\n', 'recommendation': None, 'stars': '3,5/5', 'content': 'urządzenie przy pierwszym użytkowaniu wydaje się dobre. Problem z konfiguracją drukarki w systemie win7 na starszym urządzeniu.', 'pros': [], 'cons': [], 'vote_yes': '0', 'vote_no': '0', 'published': '2024-01-08 15:16:39', 'purchased': '2023-12-18 13:21:12'}\n",
      "{'opinion_id': '13654028', 'author': '\\np...m\\n', 'recommendation': 'Nie polecam', 'stars': '1/5', 'content': 'Drukarka jak na tą cenę jest bardzo słaba, Czas  potrzebny do wydrukowania pierwszej strony to prawie dwie minuty. A odgłosy wydaje takie, jakby za chwilę miała rozpaść się. W tej cenie należałoby też oczekiwać dwustronnego automatycznego wydruku. Wprawdzie info o dwustronnym wydruku jest na stronie sklepu, ale w rzeczywistości nie ma to nic wspólnego z dwustronnym wydrukiem, kartkę trzeba przenosić ręcznie zgodnie z wyświetlona instrukcją.', 'pros': [], 'cons': ['głośność pracy', 'jakość wydruków', 'jakość wydruku', 'szybkość wydruku'], 'vote_yes': '6', 'vote_no': '1', 'published': '2020-12-26 21:42:32', 'purchased': '2020-11-26 08:21:40'}\n",
      "{'opinion_id': '13243464', 'author': '\\nm...i\\n', 'recommendation': 'Nie polecam', 'stars': '0,5/5', 'content': 'Niestety pierwsze wrazenie po uruchomieniu sprzetu negatywne. Odrazu trzeba bylo skladac reklamacje poniewaz jakosc druku odbiegała od normy. Po zgloszeniu okazalo sie ze jest uszkodzona glowica. Zobaczymy jak przyjdzie nowa glowica czy cos to da. Jaknarazie to wielka porażka a myslalam ze sprzet za ta cene bedzie działał bez zarzutu. Niestety pomyliłam się. ', 'pros': [], 'cons': [], 'vote_yes': '8', 'vote_no': '4', 'published': '2020-10-20 18:00:33', 'purchased': '2020-10-16 15:51:18'}\n"
     ]
    }
   ],
   "source": [
    "next_page = \"https://www.ceneo.pl/84514582#tab=reviews_scroll\"\n",
    "while next_page:\n",
    "    response = requests.get(next_page)\n",
    "    if response.status_code == 200:\n",
    "        page_dom = BeautifulSoup(response.text, 'html.parser')\n",
    "        opinions = page_dom.select(\"div.js_product-review:not(.user-post--highlight)\")\n",
    "        for opinion in opinions:\n",
    "            singleOpinion = {}\n",
    "            singleOpinion[\"opinion_id\"] = opinion[\"data-entry-id\"]\n",
    "            singleOpinion[\"author\"] = opinion.select_one(\"span.user-post__author-name\").get_text()\n",
    "            try:\n",
    "                singleOpinion[\"recommendation\"] = opinion.select_one(\"span.user-post__author-recomendation > em\").get_text()\n",
    "            except AttributeError:\n",
    "                singleOpinion[\"recommendation\"] = None\n",
    "            singleOpinion[\"stars\"] = opinion.select_one(\"span.user-post__score-count\").get_text()\n",
    "            singleOpinion[\"content\"] = opinion.select_one(\"div.user-post__text\").get_text()\n",
    "            singleOpinion[\"pros\"] = [p.get_text() for p in opinion.select(\"div.review-feature__item--positive\")]\n",
    "            singleOpinion[\"cons\"] = [s.get_text() for s in opinion.select(\"div.review-feature__item--negative\")]\n",
    "            singleOpinion[\"vote_yes\"] = opinion.select_one(\"button.vote-yes\")[\"data-total-vote\"]\n",
    "            singleOpinion[\"vote_no\"] = opinion.select_one(\"button.vote-no\")[\"data-total-vote\"]\n",
    "            singleOpinion[\"published\"] = opinion.select_one(\"span.user-post__published > time:nth-child(1)\")[\"datetime\"]\n",
    "            try:\n",
    "                singleOpinion[\"purchased\"] = opinion.select_one(\"span.user-post__published > time:nth-child(2)\")[\"datetime\"]\n",
    "            except TypeError:\n",
    "                singleOpinion[\"purchased\"] = None\n",
    "            print(singleOpinion)\n",
    "        try:\n",
    "            next_page = \"https://www.ceneo.pl\" + page_dom.select_one(\"a.pagination__next\")[\"href\"]\n",
    "        except TypeError:\n",
    "            next_page = None\n",
    "    else:\n",
    "        print(\"Smth went wrong\")"
   ]
  }
 ],
 "metadata": {
  "kernelspec": {
   "display_name": ".venv",
   "language": "python",
   "name": "python3"
  },
  "language_info": {
   "codemirror_mode": {
    "name": "ipython",
    "version": 3
   },
   "file_extension": ".py",
   "mimetype": "text/x-python",
   "name": "python",
   "nbconvert_exporter": "python",
   "pygments_lexer": "ipython3",
   "version": "3.13.2"
  }
 },
 "nbformat": 4,
 "nbformat_minor": 2
}
