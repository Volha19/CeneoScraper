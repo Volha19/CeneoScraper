{
 "cells": [
  {
   "cell_type": "markdown",
   "metadata": {},
   "source": [
    "## Imports"
   ]
  },
  {
   "cell_type": "code",
   "execution_count": 72,
   "metadata": {},
   "outputs": [],
   "source": [
    "import os\n",
    "import pandas as pd\n",
    "import numpy as np\n",
    "from matplotlib import pyplot as pit \n",
    "from matplotlib.cm import get_cmap\n",
    "from matplotlib.colors import Normalize"
   ]
  },
  {
   "cell_type": "markdown",
   "metadata": {},
   "source": [
    "### Import opinions from .json file"
   ]
  },
  {
   "cell_type": "code",
   "execution_count": 73,
   "metadata": {},
   "outputs": [
    {
     "name": "stdout",
     "output_type": "stream",
     "text": [
      "148801196\n",
      "39562616\n",
      "84514582\n"
     ]
    }
   ],
   "source": [
    "print(*[filename.split(\".\")[0] for filename in os.listdir(\"./opinions\")],sep =\"\\n\")"
   ]
  },
  {
   "cell_type": "code",
   "execution_count": 74,
   "metadata": {},
   "outputs": [],
   "source": [
    "productID = input(\"Enter product code, please:\")"
   ]
  },
  {
   "cell_type": "code",
   "execution_count": 75,
   "metadata": {},
   "outputs": [
    {
     "data": {
      "text/html": [
       "<div>\n",
       "<style scoped>\n",
       "    .dataframe tbody tr th:only-of-type {\n",
       "        vertical-align: middle;\n",
       "    }\n",
       "\n",
       "    .dataframe tbody tr th {\n",
       "        vertical-align: top;\n",
       "    }\n",
       "\n",
       "    .dataframe thead th {\n",
       "        text-align: right;\n",
       "    }\n",
       "</style>\n",
       "<table border=\"1\" class=\"dataframe\">\n",
       "  <thead>\n",
       "    <tr style=\"text-align: right;\">\n",
       "      <th></th>\n",
       "      <th>opinion_id</th>\n",
       "      <th>author</th>\n",
       "      <th>recommendation</th>\n",
       "      <th>stars</th>\n",
       "      <th>content_pl</th>\n",
       "      <th>pros_pl</th>\n",
       "      <th>cons_pl</th>\n",
       "      <th>vote_yes</th>\n",
       "      <th>vote_no</th>\n",
       "      <th>published</th>\n",
       "      <th>purchased</th>\n",
       "      <th>content_en</th>\n",
       "      <th>pros_en</th>\n",
       "      <th>cons_en</th>\n",
       "    </tr>\n",
       "  </thead>\n",
       "  <tbody>\n",
       "    <tr>\n",
       "      <th>0</th>\n",
       "      <td>18779019</td>\n",
       "      <td>m...i</td>\n",
       "      <td>True</td>\n",
       "      <td>5.0</td>\n",
       "      <td>Nigdy nie chciałem słuchawek nausznych - szcze...</td>\n",
       "      <td>[jakość dźwięku, wygląd, wygoda używania]</td>\n",
       "      <td>[]</td>\n",
       "      <td>3</td>\n",
       "      <td>0</td>\n",
       "      <td>2024-07-02 16:52:53</td>\n",
       "      <td>2024-06-01 17:53:44</td>\n",
       "      <td>I never wanted earphones - honestly, if they w...</td>\n",
       "      <td>[sound quality, appearance, convenience of use]</td>\n",
       "      <td>[]</td>\n",
       "    </tr>\n",
       "    <tr>\n",
       "      <th>1</th>\n",
       "      <td>17859737</td>\n",
       "      <td>k...o</td>\n",
       "      <td>True</td>\n",
       "      <td>5.0</td>\n",
       "      <td>Piękne słuchawki, wygodne dobrze przesyła dźwi...</td>\n",
       "      <td>[jakość dźwięku, wygląd, wygoda używania]</td>\n",
       "      <td>[]</td>\n",
       "      <td>4</td>\n",
       "      <td>0</td>\n",
       "      <td>2023-09-01 08:30:01</td>\n",
       "      <td>2023-08-31 11:30:38</td>\n",
       "      <td>Beautiful headphones, comfortable, sends the s...</td>\n",
       "      <td>[sound quality, appearance, convenience of use]</td>\n",
       "      <td>[]</td>\n",
       "    </tr>\n",
       "    <tr>\n",
       "      <th>2</th>\n",
       "      <td>19249603</td>\n",
       "      <td>Roman</td>\n",
       "      <td>True</td>\n",
       "      <td>4.0</td>\n",
       "      <td>Ogólnie słuchawki bardzo fajne i mega długo tr...</td>\n",
       "      <td>[]</td>\n",
       "      <td>[]</td>\n",
       "      <td>1</td>\n",
       "      <td>0</td>\n",
       "      <td>2024-12-01 23:32:37</td>\n",
       "      <td>2024-07-23 10:45:35</td>\n",
       "      <td>In general, the headphones are very cool and t...</td>\n",
       "      <td>[]</td>\n",
       "      <td>[]</td>\n",
       "    </tr>\n",
       "    <tr>\n",
       "      <th>3</th>\n",
       "      <td>17543798</td>\n",
       "      <td>m...u</td>\n",
       "      <td>True</td>\n",
       "      <td>5.0</td>\n",
       "      <td>Super słuchawki. Bateria trzyma tyle godzin, ż...</td>\n",
       "      <td>[jakość dźwięku, wygląd, wygoda używania]</td>\n",
       "      <td>[]</td>\n",
       "      <td>1</td>\n",
       "      <td>0</td>\n",
       "      <td>2023-05-24 19:38:46</td>\n",
       "      <td>2023-04-23 17:00:15</td>\n",
       "      <td>Super headphones. The battery holds so many ho...</td>\n",
       "      <td>[sound quality, appearance, convenience of use]</td>\n",
       "      <td>[]</td>\n",
       "    </tr>\n",
       "    <tr>\n",
       "      <th>4</th>\n",
       "      <td>17430069</td>\n",
       "      <td>r...2</td>\n",
       "      <td>True</td>\n",
       "      <td>5.0</td>\n",
       "      <td>Słuchawki dobrej jakości nawet do ps5 na strze...</td>\n",
       "      <td>[]</td>\n",
       "      <td>[]</td>\n",
       "      <td>1</td>\n",
       "      <td>0</td>\n",
       "      <td>2023-04-21 11:45:02</td>\n",
       "      <td>2023-04-16 19:17:47</td>\n",
       "      <td>Good quality headphones even for PS5 for shoot...</td>\n",
       "      <td>[]</td>\n",
       "      <td>[]</td>\n",
       "    </tr>\n",
       "    <tr>\n",
       "      <th>5</th>\n",
       "      <td>17980646</td>\n",
       "      <td>c...5</td>\n",
       "      <td>True</td>\n",
       "      <td>5.0</td>\n",
       "      <td>Bardzo dobre audio, szybko sie łączy z telefonem</td>\n",
       "      <td>[jakość dźwięku, wygląd, wygoda używania]</td>\n",
       "      <td>[]</td>\n",
       "      <td>2</td>\n",
       "      <td>0</td>\n",
       "      <td>2023-10-09 09:25:12</td>\n",
       "      <td>2023-10-06 17:00:40</td>\n",
       "      <td>Very good audio, it quickly connects to the phone</td>\n",
       "      <td>[sound quality, appearance, convenience of use]</td>\n",
       "      <td>[]</td>\n",
       "    </tr>\n",
       "    <tr>\n",
       "      <th>6</th>\n",
       "      <td>18737477</td>\n",
       "      <td>s...7</td>\n",
       "      <td>True</td>\n",
       "      <td>5.0</td>\n",
       "      <td>Fajne słuchawki dobra jakość dźwięku i są bard...</td>\n",
       "      <td>[jakość dźwięku, wygląd, wygoda używania]</td>\n",
       "      <td>[]</td>\n",
       "      <td>0</td>\n",
       "      <td>0</td>\n",
       "      <td>2024-06-16 05:59:51</td>\n",
       "      <td>2024-06-07 21:53:43</td>\n",
       "      <td>Cool headphones good sound quality and are ver...</td>\n",
       "      <td>[sound quality, appearance, convenience of use]</td>\n",
       "      <td>[]</td>\n",
       "    </tr>\n",
       "    <tr>\n",
       "      <th>7</th>\n",
       "      <td>17346514</td>\n",
       "      <td>p...i</td>\n",
       "      <td>True</td>\n",
       "      <td>4.5</td>\n",
       "      <td>Słuchawki solidnie wykonane.</td>\n",
       "      <td>[jakość dźwięku, wygląd, wygoda używania]</td>\n",
       "      <td>[]</td>\n",
       "      <td>1</td>\n",
       "      <td>0</td>\n",
       "      <td>2023-03-31 13:32:56</td>\n",
       "      <td>2023-03-21 17:56:29</td>\n",
       "      <td>Headphones are solidly made.</td>\n",
       "      <td>[sound quality, appearance, convenience of use]</td>\n",
       "      <td>[]</td>\n",
       "    </tr>\n",
       "    <tr>\n",
       "      <th>8</th>\n",
       "      <td>18218236</td>\n",
       "      <td>t...a</td>\n",
       "      <td>True</td>\n",
       "      <td>4.5</td>\n",
       "      <td>Bardzo dobra jakosc dzwieku</td>\n",
       "      <td>[]</td>\n",
       "      <td>[]</td>\n",
       "      <td>1</td>\n",
       "      <td>0</td>\n",
       "      <td>2023-12-17 17:49:47</td>\n",
       "      <td>2023-12-13 20:48:09</td>\n",
       "      <td>Very good sound quality</td>\n",
       "      <td>[]</td>\n",
       "      <td>[]</td>\n",
       "    </tr>\n",
       "    <tr>\n",
       "      <th>9</th>\n",
       "      <td>18216730</td>\n",
       "      <td>t...l</td>\n",
       "      <td>True</td>\n",
       "      <td>5.0</td>\n",
       "      <td>potrzebuje czasu na ocenę</td>\n",
       "      <td>[]</td>\n",
       "      <td>[]</td>\n",
       "      <td>1</td>\n",
       "      <td>0</td>\n",
       "      <td>2023-12-16 07:24:25</td>\n",
       "      <td>2023-12-10 16:20:59</td>\n",
       "      <td>I need time to evaluate</td>\n",
       "      <td>[]</td>\n",
       "      <td>[]</td>\n",
       "    </tr>\n",
       "  </tbody>\n",
       "</table>\n",
       "</div>"
      ],
      "text/plain": [
       "   opinion_id author  recommendation  stars  \\\n",
       "0    18779019  m...i            True    5.0   \n",
       "1    17859737  k...o            True    5.0   \n",
       "2    19249603  Roman            True    4.0   \n",
       "3    17543798  m...u            True    5.0   \n",
       "4    17430069  r...2            True    5.0   \n",
       "5    17980646  c...5            True    5.0   \n",
       "6    18737477  s...7            True    5.0   \n",
       "7    17346514  p...i            True    4.5   \n",
       "8    18218236  t...a            True    4.5   \n",
       "9    18216730  t...l            True    5.0   \n",
       "\n",
       "                                          content_pl  \\\n",
       "0  Nigdy nie chciałem słuchawek nausznych - szcze...   \n",
       "1  Piękne słuchawki, wygodne dobrze przesyła dźwi...   \n",
       "2  Ogólnie słuchawki bardzo fajne i mega długo tr...   \n",
       "3  Super słuchawki. Bateria trzyma tyle godzin, ż...   \n",
       "4  Słuchawki dobrej jakości nawet do ps5 na strze...   \n",
       "5   Bardzo dobre audio, szybko sie łączy z telefonem   \n",
       "6  Fajne słuchawki dobra jakość dźwięku i są bard...   \n",
       "7                       Słuchawki solidnie wykonane.   \n",
       "8                        Bardzo dobra jakosc dzwieku   \n",
       "9                          potrzebuje czasu na ocenę   \n",
       "\n",
       "                                     pros_pl cons_pl  vote_yes  vote_no  \\\n",
       "0  [jakość dźwięku, wygląd, wygoda używania]      []         3        0   \n",
       "1  [jakość dźwięku, wygląd, wygoda używania]      []         4        0   \n",
       "2                                         []      []         1        0   \n",
       "3  [jakość dźwięku, wygląd, wygoda używania]      []         1        0   \n",
       "4                                         []      []         1        0   \n",
       "5  [jakość dźwięku, wygląd, wygoda używania]      []         2        0   \n",
       "6  [jakość dźwięku, wygląd, wygoda używania]      []         0        0   \n",
       "7  [jakość dźwięku, wygląd, wygoda używania]      []         1        0   \n",
       "8                                         []      []         1        0   \n",
       "9                                         []      []         1        0   \n",
       "\n",
       "             published            purchased  \\\n",
       "0  2024-07-02 16:52:53  2024-06-01 17:53:44   \n",
       "1  2023-09-01 08:30:01  2023-08-31 11:30:38   \n",
       "2  2024-12-01 23:32:37  2024-07-23 10:45:35   \n",
       "3  2023-05-24 19:38:46  2023-04-23 17:00:15   \n",
       "4  2023-04-21 11:45:02  2023-04-16 19:17:47   \n",
       "5  2023-10-09 09:25:12  2023-10-06 17:00:40   \n",
       "6  2024-06-16 05:59:51  2024-06-07 21:53:43   \n",
       "7  2023-03-31 13:32:56  2023-03-21 17:56:29   \n",
       "8  2023-12-17 17:49:47  2023-12-13 20:48:09   \n",
       "9  2023-12-16 07:24:25  2023-12-10 16:20:59   \n",
       "\n",
       "                                          content_en  \\\n",
       "0  I never wanted earphones - honestly, if they w...   \n",
       "1  Beautiful headphones, comfortable, sends the s...   \n",
       "2  In general, the headphones are very cool and t...   \n",
       "3  Super headphones. The battery holds so many ho...   \n",
       "4  Good quality headphones even for PS5 for shoot...   \n",
       "5  Very good audio, it quickly connects to the phone   \n",
       "6  Cool headphones good sound quality and are ver...   \n",
       "7                       Headphones are solidly made.   \n",
       "8                            Very good sound quality   \n",
       "9                            I need time to evaluate   \n",
       "\n",
       "                                           pros_en cons_en  \n",
       "0  [sound quality, appearance, convenience of use]      []  \n",
       "1  [sound quality, appearance, convenience of use]      []  \n",
       "2                                               []      []  \n",
       "3  [sound quality, appearance, convenience of use]      []  \n",
       "4                                               []      []  \n",
       "5  [sound quality, appearance, convenience of use]      []  \n",
       "6  [sound quality, appearance, convenience of use]      []  \n",
       "7  [sound quality, appearance, convenience of use]      []  \n",
       "8                                               []      []  \n",
       "9                                               []      []  "
      ]
     },
     "execution_count": 75,
     "metadata": {},
     "output_type": "execute_result"
    }
   ],
   "source": [
    "opinions = pd.read_json(f\"./opinions/{productID}.json\")\n",
    "opinions"
   ]
  },
  {
   "cell_type": "markdown",
   "metadata": {},
   "source": [
    "### Basic Statistics"
   ]
  },
  {
   "cell_type": "code",
   "execution_count": 76,
   "metadata": {},
   "outputs": [
    {
     "name": "stdout",
     "output_type": "stream",
     "text": [
      "The number of opinions : 10\n",
      "The number of opinions with advantages: 6\n",
      "The number of opinions with disadvantages: 0\n",
      "The number of opinions with both: advantages and disadvantages have been listened : 0\n",
      "The average rate of the product: 4.80\n"
     ]
    }
   ],
   "source": [
    "opinions_count = opinions.shape[0]\n",
    "pros_count = opinions.pros_pl.astype(bool).sum()\n",
    "cons_count = opinions.cons_pl.astype(bool).sum()\n",
    "pros_cons_count = opinions.apply(lambda o: bool(o.pros_pl) and bool(o.cons_pl), axis = 1).sum()\n",
    "average_rate = opinions.stars.mean() \n",
    "print(f\"The number of opinions : {opinions_count}\")\n",
    "print(f\"The number of opinions with advantages: {pros_count}\")\n",
    "print(f\"The number of opinions with disadvantages: {cons_count}\")\n",
    "print(f\"The number of opinions with both: advantages and disadvantages have been listened : {cons_count}\")\n",
    "print(f\"The average rate of the product: {average_rate:.2f}\")\n"
   ]
  },
  {
   "cell_type": "code",
   "execution_count": 77,
   "metadata": {},
   "outputs": [
    {
     "name": "stdout",
     "output_type": "stream",
     "text": [
      "pros_en\n",
      "sound quality         6\n",
      "appearance            6\n",
      "convenience of use    6\n",
      "Name: count, dtype: int64\n",
      "Series([], Name: count, dtype: int64)\n"
     ]
    }
   ],
   "source": [
    "pros = opinions.pros_en.explode().value_counts()\n",
    "cons = opinions.cons_en.explode().value_counts()\n",
    "print(pros)\n",
    "print(cons)"
   ]
  },
  {
   "cell_type": "markdown",
   "metadata": {},
   "source": [
    "### Charts"
   ]
  },
  {
   "cell_type": "code",
   "execution_count": 78,
   "metadata": {},
   "outputs": [],
   "source": [
    "if not os.path.exists(\"./pie_charts\"):\n",
    "    os.mkdir(\"./pie_charts\")\n",
    "if not os.path.exists(\"./bar_charts\"):\n",
    "    os.mkdir(\"./bar_charts\")"
   ]
  },
  {
   "cell_type": "code",
   "execution_count": 79,
   "metadata": {},
   "outputs": [
    {
     "data": {
      "text/plain": [
       "recommendation\n",
       "False     0\n",
       "True     10\n",
       "NaN       0\n",
       "Name: count, dtype: int64"
      ]
     },
     "execution_count": 79,
     "metadata": {},
     "output_type": "execute_result"
    }
   ],
   "source": [
    "recommendations = opinions.recommendation.value_counts(dropna = False).reindex([False,True,np.nan],fill_value=0)\n",
    "recommendations"
   ]
  },
  {
   "cell_type": "code",
   "execution_count": 80,
   "metadata": {},
   "outputs": [],
   "source": [
    "recommendations.plot.pie(\n",
    "    label = \"\",\n",
    "    labels = {\"Not recommend\",\"Recommend\",\"No opinion\"},\n",
    "    colors = [\"#ca8be6\",\"#efb0e9\",\"#8fe7ed\"],\n",
    "    autopct = lambda v: f\"{v:.1f}%\" if v > 0 else \"\",\n",
    "    title = f\"Share of recommendaition for product {productID}\",\n",
    ")\n",
    "pit.savefig(f\"./pie_charts/{productID}.png\")\n",
    "pit.close()"
   ]
  },
  {
   "cell_type": "code",
   "execution_count": 81,
   "metadata": {},
   "outputs": [
    {
     "data": {
      "text/plain": [
       "stars\n",
       "0.0    0\n",
       "0.5    0\n",
       "1.0    0\n",
       "1.5    0\n",
       "2.0    0\n",
       "2.5    0\n",
       "3.0    0\n",
       "3.5    0\n",
       "4.0    1\n",
       "4.5    2\n",
       "5.0    7\n",
       "Name: count, dtype: int64"
      ]
     },
     "execution_count": 81,
     "metadata": {},
     "output_type": "execute_result"
    }
   ],
   "source": [
    "stars = opinions.stars.value_counts().reindex(list(np.arange(0,5.5,0.5)),fill_value=0)\n",
    "stars"
   ]
  },
  {
   "cell_type": "code",
   "execution_count": 82,
   "metadata": {},
   "outputs": [],
   "source": [
    "ax = stars.plot.bar(\n",
    "    xlabel = \"Rate (number of starts in range 0 to 5)\",\n",
    "    ylabel = \"Count of rates(number of opnions)\",\n",
    "    title = f\"Number of opinions about the the product {productID} with certain number of stars\",\n",
    "    color = [\"crimson\" if x<3 else \"forestgreen\" if x> 3.5 else \"silver\" for x in stars.index]\n",
    ")\n",
    "pit.xticks(rotation = 0)\n",
    "for container in ax.containers:\n",
    "    ax.bar_label(container)\n",
    "pit.savefig(f\"./bar_charts/{productID}.png\")\n",
    "pit.close()"
   ]
  }
 ],
 "metadata": {
  "kernelspec": {
   "display_name": ".venv",
   "language": "python",
   "name": "python3"
  },
  "language_info": {
   "codemirror_mode": {
    "name": "ipython",
    "version": 3
   },
   "file_extension": ".py",
   "mimetype": "text/x-python",
   "name": "python",
   "nbconvert_exporter": "python",
   "pygments_lexer": "ipython3",
   "version": "3.13.2"
  }
 },
 "nbformat": 4,
 "nbformat_minor": 2
}
